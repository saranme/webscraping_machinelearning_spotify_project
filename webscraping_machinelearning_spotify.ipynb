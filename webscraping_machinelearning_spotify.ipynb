{
 "cells": [
  {
   "cell_type": "code",
   "execution_count": 1,
   "metadata": {},
   "outputs": [],
   "source": [
    "from bs4 import BeautifulSoup\n",
    "import requests\n",
    "import pandas as pd\n",
    "import datetime\n",
    "import numpy as np\n",
    "from datetime import date\n",
    "from  time import sleep\n",
    "\n",
    "from sklearn import datasets\n",
    "from sklearn.preprocessing import StandardScaler\n",
    "from sklearn.cluster import KMeans\n",
    "from sklearn.metrics import silhouette_score\n",
    "\n",
    "import spotipy\n",
    "import json\n",
    "from spotipy.oauth2 import SpotifyClientCredentials\n",
    "\n",
    "import warnings\n",
    "warnings.filterwarnings(\"ignore\")\n",
    "\n",
    "from config import *"
   ]
  },
  {
   "cell_type": "code",
   "execution_count": 263,
   "metadata": {},
   "outputs": [],
   "source": [
    "def getting_df(url):\n",
    "    response = requests.get(url)\n",
    "    response.status_code # 200 status code means OK!\n",
    "    soup = BeautifulSoup(response.content, \"html.parser\")\n",
    "    artist = []\n",
    "    song = []\n",
    "\n",
    "    for tag in soup.select(\".chart-element__information__artist\"):\n",
    "        artist.append(tag.get_text())\n",
    "\n",
    "    for tag in soup.select(\".chart-element__information__song\"):\n",
    "        song.append(tag.get_text())\n",
    "\n",
    "    d = {'artist': artist, 'song': song}\n",
    "    df = pd.DataFrame(d,columns = ['artist','song'])\n",
    "    df.drop_duplicates(inplace=True)\n",
    "    df['creation_ddbb'] = date.today()\n",
    "    return df"
   ]
  },
  {
   "cell_type": "code",
   "execution_count": 264,
   "metadata": {},
   "outputs": [],
   "source": [
    "def updating_df(url,df):\n",
    "    response = requests.get(url)\n",
    "    response.status_code # 200 status code means OK!\n",
    "    soup = BeautifulSoup(response.content, \"html.parser\")\n",
    "    new_artist = []\n",
    "    new_song = []\n",
    "    for tag in soup.select(\".chart-element__information__artist\"):\n",
    "        new_artist.append(tag.get_text())\n",
    "    for tag in soup.select(\".chart-element__information__song\"):\n",
    "        new_song.append(tag.get_text().capitalize())\n",
    "    for s in list(df.song):\n",
    "        if s not in new_song:\n",
    "            df.drop(list(df[df.song == s].index))\n",
    "    for s in new_song:\n",
    "        if s not in list(df.song):\n",
    "            new_row = {'artist': new_artist[new_song.index(s)] ,'song': s,'creation_ddbb': date.today()}\n",
    "            df = df.append(new_row, ignore_index=True)\n",
    "    df.to_csv('billboard_music_db.csv', index=False)\n",
    "    return df\n",
    "# second url to try: https://www.billboard.com/charts/billboard-200\n"
   ]
  },
  {
   "cell_type": "code",
   "execution_count": 577,
   "metadata": {},
   "outputs": [
    {
     "data": {
      "text/html": [
       "<div>\n",
       "<style scoped>\n",
       "    .dataframe tbody tr th:only-of-type {\n",
       "        vertical-align: middle;\n",
       "    }\n",
       "\n",
       "    .dataframe tbody tr th {\n",
       "        vertical-align: top;\n",
       "    }\n",
       "\n",
       "    .dataframe thead th {\n",
       "        text-align: right;\n",
       "    }\n",
       "</style>\n",
       "<table border=\"1\" class=\"dataframe\">\n",
       "  <thead>\n",
       "    <tr style=\"text-align: right;\">\n",
       "      <th></th>\n",
       "      <th>artist</th>\n",
       "      <th>song</th>\n",
       "      <th>creation_ddbb</th>\n",
       "    </tr>\n",
       "  </thead>\n",
       "  <tbody>\n",
       "    <tr>\n",
       "      <th>0</th>\n",
       "      <td>Olivia Rodrigo</td>\n",
       "      <td>Drivers license</td>\n",
       "      <td>2021-02-23</td>\n",
       "    </tr>\n",
       "    <tr>\n",
       "      <th>1</th>\n",
       "      <td>Ariana Grande</td>\n",
       "      <td>34+35</td>\n",
       "      <td>2021-02-23</td>\n",
       "    </tr>\n",
       "    <tr>\n",
       "      <th>2</th>\n",
       "      <td>Lil Tjay Featuring 6LACK</td>\n",
       "      <td>Calling my phone</td>\n",
       "      <td>2021-02-23</td>\n",
       "    </tr>\n",
       "    <tr>\n",
       "      <th>3</th>\n",
       "      <td>The Weeknd</td>\n",
       "      <td>Blinding lights</td>\n",
       "      <td>2021-02-23</td>\n",
       "    </tr>\n",
       "    <tr>\n",
       "      <th>4</th>\n",
       "      <td>Cardi B</td>\n",
       "      <td>Up</td>\n",
       "      <td>2021-02-23</td>\n",
       "    </tr>\n",
       "  </tbody>\n",
       "</table>\n",
       "</div>"
      ],
      "text/plain": [
       "                     artist              song creation_ddbb\n",
       "0            Olivia Rodrigo   Drivers license    2021-02-23\n",
       "1             Ariana Grande             34+35    2021-02-23\n",
       "2  Lil Tjay Featuring 6LACK  Calling my phone    2021-02-23\n",
       "3                The Weeknd   Blinding lights    2021-02-23\n",
       "4                   Cardi B                Up    2021-02-23"
      ]
     },
     "execution_count": 577,
     "metadata": {},
     "output_type": "execute_result"
    }
   ],
   "source": [
    "df = pd.read_csv('billboard_music_db.csv')\n",
    "df.head()"
   ]
  },
  {
   "cell_type": "markdown",
   "metadata": {},
   "source": [
    "Lab | API wrappers - Create your collection of songs & audio features\n",
    "\n",
    "Instructions\n",
    "To move forward with the project, you need to create a collection of songs with their audio features - as large as possible!\n",
    "\n",
    "These are the songs that we will cluster. And, later, when the user inputs a song, we will find the cluster to which the song belongs and recommend a song from the same cluster. The more songs you have, the more accurate and diverse recommendations you'll be able to give. Although... you might want to make sure the collected songs are \"curated\" in a certain way. Try to find playlists of songs that are diverse, but also that meet certain standards.\n",
    "\n",
    "The process of sending hundreds or thousands of requests can take some time - it's normal if you have to wait a few minutes (or, if you're ambitious, even hours) to get all the data you need.\n",
    "\n",
    "An idea for collecting as many songs as possible is to start with all the songs of a big, diverse playlist and then go to every artist present in the playlist and grab every song of every album of that artist. The amount of songs you'll be collecting per playlist will grow exponentially!"
   ]
  },
  {
   "cell_type": "code",
   "execution_count": 4,
   "metadata": {},
   "outputs": [],
   "source": [
    "sp = spotipy.Spotify(auth_manager=SpotifyClientCredentials(client_id= spotify_client_id,\n",
    "                                                           client_secret= spotify_client_secret))"
   ]
  },
  {
   "cell_type": "code",
   "execution_count": 5,
   "metadata": {},
   "outputs": [],
   "source": [
    "def get_playlist_tracks(username, playlist_id):\n",
    "    '''return songs from playlist'''\n",
    "    results = sp.user_playlist_tracks(username,playlist_id)\n",
    "    tracks = results['items']\n",
    "    while results['next']:\n",
    "        results = sp.next(results)\n",
    "        tracks.extend(results['items'])\n",
    "    return tracks"
   ]
  },
  {
   "cell_type": "code",
   "execution_count": 9,
   "metadata": {},
   "outputs": [],
   "source": [
    "# extract song names and artists from playlist\n",
    "def song_artist(username, playlist_id):\n",
    "    '''return artist's songs from songs from playlist'''\n",
    "    song_artist_dict = {}\n",
    "    playlist_tracks = get_playlist_tracks(username, playlist_id)\n",
    "    playlist_len = len(playlist_tracks)\n",
    "    \n",
    "    for i in range(playlist_len):\n",
    "        song_name = playlist_tracks[i]['track']['name']\n",
    "        song_id = playlist_tracks[i]['track']['id']\n",
    "        singer = playlist_tracks[i]['track']['artists'][0]['name']\n",
    "        song_artist_dict[singer] = {'song_name':song_name,'song_id':song_id}\n",
    "        sleep(1)\n",
    "    return song_artist_dict"
   ]
  },
  {
   "cell_type": "code",
   "execution_count": 77,
   "metadata": {},
   "outputs": [],
   "source": [
    "def artist_songs(song_artist_dict):\n",
    "    '''returns a dictionary with the artists and their songs and respective info'''\n",
    "    dict_songs_artist = {}\n",
    "    for artist in song_artist_dict.keys():\n",
    "        songs = sp.search(q=artist,limit=50)\n",
    "        dict_songs = {}\n",
    "        for i in range(50):\n",
    "            try:\n",
    "                song = songs[\"tracks\"][\"items\"][i]['name']\n",
    "                if song not in list(dict_songs_artist.get(artist,{}).keys()):\n",
    "                    dict_songs[song] = sp.audio_features(songs[\"tracks\"][\"items\"][0][\"uri\"])[0]\n",
    "            except:\n",
    "                break    \n",
    "        dict_songs_artist[artist] = dict_songs\n",
    "    return dict_songs_artist"
   ]
  },
  {
   "cell_type": "code",
   "execution_count": 191,
   "metadata": {},
   "outputs": [],
   "source": [
    "def create_df(info):\n",
    "    '''create df of the songs and their info'''\n",
    "    danceability = []\n",
    "    energy =[]\n",
    "    key = []\n",
    "    loudness = []\n",
    "    mode = []\n",
    "    speechiness = []\n",
    "    acousticness = []\n",
    "    instrumentalness = []\n",
    "    liveness = []\n",
    "    valence =[]\n",
    "    tempo = []\n",
    "    _type = []\n",
    "    _id = []\n",
    "    uri = []\n",
    "    duration_ms = []\n",
    "    time_signature = [] \n",
    "    song =[]\n",
    "    artist = []\n",
    "\n",
    "    for artist_ in info.keys():\n",
    "        for song_ in info.get(artist_,{}).keys():\n",
    "            features = {'song':song,'artist':artist,'danceability':danceability,'energy':energy,'key':key,'loudness':loudness,'mode':mode,'speechiness':speechiness,'instrumentalness':instrumentalness,'liveness':liveness,'valence':valence,'tempo':tempo,'type':_type,'id':_id,'uri':uri,'duration_ms':duration_ms,'time_signature':time_signature}\n",
    "            for i,v in features.items():\n",
    "                if i == 'artist':\n",
    "                    feature = artist_\n",
    "                elif i == 'song':\n",
    "                    feature = song_\n",
    "                else:\n",
    "                    feature = info.get(artist_,{}).get(song_)[i]\n",
    "                v.append(feature)\n",
    "\n",
    "        new_dict ={}\n",
    "        for i,v in features.items():\n",
    "            new_dict[i] = v\n",
    "    \n",
    "    df = pd.DataFrame(new_dict)\n",
    "    #df.to_csv('db_spotify_project.csv')\n",
    "    return df"
   ]
  },
  {
   "cell_type": "code",
   "execution_count": 10,
   "metadata": {},
   "outputs": [],
   "source": [
    "song_artist_dict = song_artist(\"alwaysfighter\", \"4QOTdWe1tig5hSsINrCKkW\")\n",
    "#\"4rnleEAOdmFAbRcNCgZMpY\" 5000 songs\n",
    "# possible playlists to test\n",
    "#\"5Rrf7mqN8uus2AaQQQNdc1\" 500 top hit songs\n",
    "#\"43Q8AWJBVTzAl1XPWyPKZQ\" 500 rare songs\n",
    "#\"4uoPRLaoEtvHXuoTuIM387\" 1519 songs\n",
    "#\"0BnvDJToAhcWJDaCb2M7pz\" small list\n",
    "#\"4QOTdWe1tig5hSsINrCKkW\" really small list\n",
    "#0lNwm5xFEgRx4iDP2DLx3j 10 songs\n"
   ]
  },
  {
   "cell_type": "code",
   "execution_count": 189,
   "metadata": {},
   "outputs": [],
   "source": [
    "x = artist_songs(song_artist_dict)\n",
    "data = create_df(x)"
   ]
  },
  {
   "cell_type": "code",
   "execution_count": 194,
   "metadata": {},
   "outputs": [],
   "source": [
    "df = data.select_dtypes(np.number)\n",
    "X_prep = StandardScaler().fit_transform(df)\n",
    "X_prep = pd.DataFrame(X_prep, columns=df.columns)"
   ]
  },
  {
   "cell_type": "code",
   "execution_count": 195,
   "metadata": {},
   "outputs": [
    {
     "name": "stdout",
     "output_type": "stream",
     "text": [
      "608.9849074793322\n"
     ]
    }
   ],
   "source": [
    "kmeans = KMeans(n_clusters=5,\n",
    "                init=\"random\", \n",
    "                n_init=3,  # try with 1, 4, 8, 20, 30, 100...\n",
    "                max_iter=2,\n",
    "                tol=0,\n",
    "                algorithm=\"full\",\n",
    "                random_state=1234)\n",
    "kmeans.fit(X_prep)\n",
    "print(kmeans.inertia_)"
   ]
  },
  {
   "cell_type": "code",
   "execution_count": 448,
   "metadata": {
    "scrolled": true
   },
   "outputs": [
    {
     "data": {
      "text/plain": [
       "0    1226\n",
       "1     937\n",
       "2    2115\n",
       "3     442\n",
       "4     864\n",
       "dtype: int64"
      ]
     },
     "execution_count": 448,
     "metadata": {},
     "output_type": "execute_result"
    }
   ],
   "source": [
    "clusters = kmeans.predict(X_prep)\n",
    "pd.Series(clusters).value_counts().sort_index()"
   ]
  },
  {
   "cell_type": "code",
   "execution_count": 449,
   "metadata": {},
   "outputs": [
    {
     "data": {
      "text/plain": [
       "Text(0.5, 1.0, 'Elbow Method showing the optimal k')"
      ]
     },
     "execution_count": 449,
     "metadata": {},
     "output_type": "execute_result"
    },
    {
     "data": {
      "image/png": "[encoded data removed]",
      "text/plain": [
       "<Figure size 1152x576 with 1 Axes>"
      ]
     },
     "metadata": {
      "needs_background": "light"
     },
     "output_type": "display_data"
    }
   ],
   "source": [
    "K = range(20, 50)\n",
    "inertia = []\n",
    "\n",
    "for k in K:\n",
    "    kmeans = KMeans(n_clusters=k,\n",
    "                    random_state=1234)\n",
    "    kmeans.fit(X_prep)\n",
    "    inertia.append(kmeans.inertia_)\n",
    "\n",
    "import numpy as np\n",
    "import matplotlib.pyplot as plt\n",
    "%matplotlib inline\n",
    "\n",
    "plt.figure(figsize=(16,8))\n",
    "plt.plot(K, inertia, 'bx-')\n",
    "plt.xlabel('k')\n",
    "plt.ylabel('inertia')\n",
    "plt.xticks(np.arange(min(K), max(K)+1, 1.0))\n",
    "plt.title('Elbow Method showing the optimal k')"
   ]
  },
  {
   "cell_type": "code",
   "execution_count": 450,
   "metadata": {},
   "outputs": [
    {
     "data": {
      "text/plain": [
       "Text(0.5, 1.0, 'Silhouette Method showing the optimal k')"
      ]
     },
     "execution_count": 450,
     "metadata": {},
     "output_type": "execute_result"
    },
    {
     "data": {
      "image/png": "[encoded data removed]",
      "text/plain": [
       "<Figure size 1152x576 with 1 Axes>"
      ]
     },
     "metadata": {
      "needs_background": "light"
     },
     "output_type": "display_data"
    }
   ],
   "source": [
    "K = range(20, 50)\n",
    "silhouette = []\n",
    "\n",
    "for k in K:\n",
    "    kmeans = KMeans(n_clusters=k,\n",
    "                    random_state=1234)\n",
    "    kmeans.fit(X_prep)\n",
    "    silhouette.append(silhouette_score(X_prep, kmeans.predict(X_prep)))\n",
    "\n",
    "\n",
    "plt.figure(figsize=(16,8))\n",
    "plt.plot(K, silhouette, 'bx-')\n",
    "plt.xlabel('k')\n",
    "plt.ylabel('silhouette score')\n",
    "plt.xticks(np.arange(min(K), max(K)+1, 1.0))\n",
    "plt.title('Silhouette Method showing the optimal k')"
   ]
  },
  {
   "cell_type": "code",
   "execution_count": null,
   "metadata": {},
   "outputs": [],
   "source": [
    "# we can choose 29,27,39"
   ]
  },
  {
   "cell_type": "code",
   "execution_count": 451,
   "metadata": {},
   "outputs": [
    {
     "name": "stdout",
     "output_type": "stream",
     "text": [
      "23486.787045187328\n"
     ]
    }
   ],
   "source": [
    "# TEST 2\n",
    "kmeans = KMeans(n_clusters=50,\n",
    "                n_init=20,  # try with 1, 4, 8, 20, 30, 100...\n",
    "                max_iter=20,\n",
    "                tol=0,\n",
    "                algorithm=\"full\",\n",
    "                random_state=1234)\n",
    "kmeans.fit(X_prep)\n",
    "print(kmeans.inertia_)"
   ]
  },
  {
   "cell_type": "code",
   "execution_count": 452,
   "metadata": {},
   "outputs": [
    {
     "data": {
      "text/plain": [
       "Text(0.5, 1.0, 'Elbow Method showing the optimal k')"
      ]
     },
     "execution_count": 452,
     "metadata": {},
     "output_type": "execute_result"
    },
    {
     "data": {
      "image/png": "[encoded data removed]",
      "text/plain": [
       "<Figure size 1152x576 with 1 Axes>"
      ]
     },
     "metadata": {
      "needs_background": "light"
     },
     "output_type": "display_data"
    }
   ],
   "source": [
    "# TEST 2\n",
    "K = range(20, 50)\n",
    "inertia = []\n",
    "\n",
    "for k in K:\n",
    "    kmeans = KMeans(n_clusters=k,\n",
    "                n_init=20,  # try with 1, 4, 8, 20, 30, 100...\n",
    "                max_iter=20,\n",
    "                tol=0,\n",
    "                algorithm=\"full\",\n",
    "                random_state=1234)\n",
    "    kmeans.fit(X_prep)\n",
    "    inertia.append(kmeans.inertia_)\n",
    "\n",
    "import numpy as np\n",
    "import matplotlib.pyplot as plt\n",
    "%matplotlib inline\n",
    "\n",
    "plt.figure(figsize=(16,8))\n",
    "plt.plot(K, inertia, 'bx-')\n",
    "plt.xlabel('k')\n",
    "plt.ylabel('inertia')\n",
    "plt.xticks(np.arange(min(K), max(K)+1, 1.0))\n",
    "plt.title('Elbow Method showing the optimal k')"
   ]
  },
  {
   "cell_type": "code",
   "execution_count": 453,
   "metadata": {
    "scrolled": true
   },
   "outputs": [
    {
     "data": {
      "text/plain": [
       "Text(0.5, 1.0, 'Silhouette Method showing the optimal k')"
      ]
     },
     "execution_count": 453,
     "metadata": {},
     "output_type": "execute_result"
    },
    {
     "data": {
      "image/png": "[encoded data removed]",
      "text/plain": [
       "<Figure size 1152x576 with 1 Axes>"
      ]
     },
     "metadata": {
      "needs_background": "light"
     },
     "output_type": "display_data"
    }
   ],
   "source": [
    "# TEST 2\n",
    "K = range(20, 50)\n",
    "silhouette = []\n",
    "\n",
    "for k in K:\n",
    "    kmeans = KMeans(n_clusters=k,\n",
    "                n_init=20,  # try with 1, 4, 8, 20, 30, 100...\n",
    "                max_iter=20,\n",
    "                tol=0,\n",
    "                random_state=1234)\n",
    "    kmeans.fit(X_prep)\n",
    "    silhouette.append(silhouette_score(X_prep, kmeans.predict(X_prep)))\n",
    "\n",
    "plt.figure(figsize=(16,8))\n",
    "plt.plot(K, silhouette, 'bx-')\n",
    "plt.xlabel('k')\n",
    "plt.ylabel('silhouette score')\n",
    "plt.xticks(np.arange(min(K), max(K)+1, 1.0))\n",
    "plt.title('Silhouette Method showing the optimal k')"
   ]
  },
  {
   "cell_type": "code",
   "execution_count": 454,
   "metadata": {},
   "outputs": [],
   "source": [
    "# we choose 21,44"
   ]
  },
  {
   "cell_type": "code",
   "execution_count": 456,
   "metadata": {},
   "outputs": [],
   "source": [
    "# first thing morning\n",
    "model = KMeans(n_clusters=44, random_state=0).fit(X_prep)\n",
    "# fit model and predict clusters\n",
    "yhat = model.fit_predict(X_prep)"
   ]
  },
  {
   "cell_type": "code",
   "execution_count": 457,
   "metadata": {},
   "outputs": [
    {
     "data": {
      "text/plain": [
       "array([ 0,  1,  2,  3,  4,  5,  6,  7,  8,  9, 10, 11, 12, 13, 14, 15, 16,\n",
       "       17, 18, 19, 20, 21, 22, 23, 24, 25, 26, 27, 28, 29, 30, 31, 32, 33,\n",
       "       34, 35, 36, 37, 38, 39, 40, 41, 42, 43], dtype=int32)"
      ]
     },
     "execution_count": 457,
     "metadata": {},
     "output_type": "execute_result"
    }
   ],
   "source": [
    "# retrieve unique clusters\n",
    "clusters = np.unique(yhat)\n",
    "clusters"
   ]
  },
  {
   "cell_type": "code",
   "execution_count": 458,
   "metadata": {},
   "outputs": [
    {
     "data": {
      "text/plain": [
       "array([ 1, 25, 18, ..., 34, 26, 16], dtype=int32)"
      ]
     },
     "execution_count": 458,
     "metadata": {},
     "output_type": "execute_result"
    }
   ],
   "source": [
    "yhat"
   ]
  },
  {
   "cell_type": "code",
   "execution_count": 459,
   "metadata": {},
   "outputs": [
    {
     "data": {
      "text/html": [
       "<div>\n",
       "<style scoped>\n",
       "    .dataframe tbody tr th:only-of-type {\n",
       "        vertical-align: middle;\n",
       "    }\n",
       "\n",
       "    .dataframe tbody tr th {\n",
       "        vertical-align: top;\n",
       "    }\n",
       "\n",
       "    .dataframe thead th {\n",
       "        text-align: right;\n",
       "    }\n",
       "</style>\n",
       "<table border=\"1\" class=\"dataframe\">\n",
       "  <thead>\n",
       "    <tr style=\"text-align: right;\">\n",
       "      <th></th>\n",
       "      <th>danceability</th>\n",
       "      <th>energy</th>\n",
       "      <th>key</th>\n",
       "      <th>loudness</th>\n",
       "      <th>mode</th>\n",
       "      <th>speechiness</th>\n",
       "      <th>acousticness</th>\n",
       "      <th>instrumentalness</th>\n",
       "      <th>liveness</th>\n",
       "      <th>valence</th>\n",
       "      <th>tempo</th>\n",
       "      <th>duration_ms</th>\n",
       "    </tr>\n",
       "  </thead>\n",
       "  <tbody>\n",
       "    <tr>\n",
       "      <th>0</th>\n",
       "      <td>-0.125565</td>\n",
       "      <td>0.662780</td>\n",
       "      <td>-1.191943</td>\n",
       "      <td>-0.108308</td>\n",
       "      <td>0.692530</td>\n",
       "      <td>-0.499804</td>\n",
       "      <td>-0.870072</td>\n",
       "      <td>-0.427814</td>\n",
       "      <td>-0.655783</td>\n",
       "      <td>0.410341</td>\n",
       "      <td>-0.684378</td>\n",
       "      <td>0.436458</td>\n",
       "    </tr>\n",
       "    <tr>\n",
       "      <th>1</th>\n",
       "      <td>1.629373</td>\n",
       "      <td>-0.539805</td>\n",
       "      <td>-1.471306</td>\n",
       "      <td>0.412062</td>\n",
       "      <td>0.692530</td>\n",
       "      <td>-0.497760</td>\n",
       "      <td>1.045914</td>\n",
       "      <td>-0.434769</td>\n",
       "      <td>-0.573573</td>\n",
       "      <td>0.663102</td>\n",
       "      <td>0.290969</td>\n",
       "      <td>0.088301</td>\n",
       "    </tr>\n",
       "    <tr>\n",
       "      <th>2</th>\n",
       "      <td>-0.265960</td>\n",
       "      <td>-0.824287</td>\n",
       "      <td>-0.912581</td>\n",
       "      <td>-0.630858</td>\n",
       "      <td>0.692530</td>\n",
       "      <td>-0.584639</td>\n",
       "      <td>-0.914191</td>\n",
       "      <td>0.954148</td>\n",
       "      <td>-0.311256</td>\n",
       "      <td>-1.772231</td>\n",
       "      <td>-0.363152</td>\n",
       "      <td>0.629677</td>\n",
       "    </tr>\n",
       "    <tr>\n",
       "      <th>3</th>\n",
       "      <td>1.266686</td>\n",
       "      <td>-0.569977</td>\n",
       "      <td>-1.191943</td>\n",
       "      <td>-0.082159</td>\n",
       "      <td>0.692530</td>\n",
       "      <td>-0.044968</td>\n",
       "      <td>0.982877</td>\n",
       "      <td>-0.201238</td>\n",
       "      <td>-0.717283</td>\n",
       "      <td>0.277942</td>\n",
       "      <td>-0.861802</td>\n",
       "      <td>0.004036</td>\n",
       "    </tr>\n",
       "    <tr>\n",
       "      <th>4</th>\n",
       "      <td>-0.271810</td>\n",
       "      <td>1.317952</td>\n",
       "      <td>-0.912581</td>\n",
       "      <td>0.529952</td>\n",
       "      <td>0.692530</td>\n",
       "      <td>-0.365909</td>\n",
       "      <td>-0.868413</td>\n",
       "      <td>-0.429966</td>\n",
       "      <td>1.063088</td>\n",
       "      <td>-0.404112</td>\n",
       "      <td>0.540865</td>\n",
       "      <td>0.103586</td>\n",
       "    </tr>\n",
       "    <tr>\n",
       "      <th>...</th>\n",
       "      <td>...</td>\n",
       "      <td>...</td>\n",
       "      <td>...</td>\n",
       "      <td>...</td>\n",
       "      <td>...</td>\n",
       "      <td>...</td>\n",
       "      <td>...</td>\n",
       "      <td>...</td>\n",
       "      <td>...</td>\n",
       "      <td>...</td>\n",
       "      <td>...</td>\n",
       "      <td>...</td>\n",
       "    </tr>\n",
       "    <tr>\n",
       "      <th>5579</th>\n",
       "      <td>0.634908</td>\n",
       "      <td>-0.376012</td>\n",
       "      <td>0.763594</td>\n",
       "      <td>-1.158855</td>\n",
       "      <td>-1.443982</td>\n",
       "      <td>0.166608</td>\n",
       "      <td>-0.886130</td>\n",
       "      <td>-0.435289</td>\n",
       "      <td>-0.417940</td>\n",
       "      <td>0.137519</td>\n",
       "      <td>0.083143</td>\n",
       "      <td>-1.331661</td>\n",
       "    </tr>\n",
       "    <tr>\n",
       "      <th>5580</th>\n",
       "      <td>1.793167</td>\n",
       "      <td>-0.807046</td>\n",
       "      <td>-1.471306</td>\n",
       "      <td>-1.063193</td>\n",
       "      <td>-1.443982</td>\n",
       "      <td>-0.161488</td>\n",
       "      <td>-0.822961</td>\n",
       "      <td>-0.431798</td>\n",
       "      <td>-1.002820</td>\n",
       "      <td>1.481566</td>\n",
       "      <td>0.255200</td>\n",
       "      <td>1.154858</td>\n",
       "    </tr>\n",
       "    <tr>\n",
       "      <th>5581</th>\n",
       "      <td>1.266686</td>\n",
       "      <td>0.585194</td>\n",
       "      <td>-0.912581</td>\n",
       "      <td>-0.406192</td>\n",
       "      <td>-1.443982</td>\n",
       "      <td>-0.519224</td>\n",
       "      <td>-0.635177</td>\n",
       "      <td>-0.405348</td>\n",
       "      <td>-0.869151</td>\n",
       "      <td>1.638037</td>\n",
       "      <td>0.382832</td>\n",
       "      <td>0.552310</td>\n",
       "    </tr>\n",
       "    <tr>\n",
       "      <th>5582</th>\n",
       "      <td>-1.067381</td>\n",
       "      <td>0.796400</td>\n",
       "      <td>-1.191943</td>\n",
       "      <td>0.220955</td>\n",
       "      <td>0.692530</td>\n",
       "      <td>3.284029</td>\n",
       "      <td>-0.728405</td>\n",
       "      <td>1.916969</td>\n",
       "      <td>-0.104163</td>\n",
       "      <td>0.045241</td>\n",
       "      <td>-1.401761</td>\n",
       "      <td>0.418067</td>\n",
       "    </tr>\n",
       "    <tr>\n",
       "      <th>5583</th>\n",
       "      <td>0.599810</td>\n",
       "      <td>1.266228</td>\n",
       "      <td>0.763594</td>\n",
       "      <td>1.001729</td>\n",
       "      <td>0.692530</td>\n",
       "      <td>-0.366931</td>\n",
       "      <td>-0.573136</td>\n",
       "      <td>-0.331571</td>\n",
       "      <td>-0.129265</td>\n",
       "      <td>1.537735</td>\n",
       "      <td>0.256620</td>\n",
       "      <td>-0.507092</td>\n",
       "    </tr>\n",
       "  </tbody>\n",
       "</table>\n",
       "<p>5584 rows × 12 columns</p>\n",
       "</div>"
      ],
      "text/plain": [
       "      danceability    energy       key  loudness      mode  speechiness  \\\n",
       "0        -0.125565  0.662780 -1.191943 -0.108308  0.692530    -0.499804   \n",
       "1         1.629373 -0.539805 -1.471306  0.412062  0.692530    -0.497760   \n",
       "2        -0.265960 -0.824287 -0.912581 -0.630858  0.692530    -0.584639   \n",
       "3         1.266686 -0.569977 -1.191943 -0.082159  0.692530    -0.044968   \n",
       "4        -0.271810  1.317952 -0.912581  0.529952  0.692530    -0.365909   \n",
       "...            ...       ...       ...       ...       ...          ...   \n",
       "5579      0.634908 -0.376012  0.763594 -1.158855 -1.443982     0.166608   \n",
       "5580      1.793167 -0.807046 -1.471306 -1.063193 -1.443982    -0.161488   \n",
       "5581      1.266686  0.585194 -0.912581 -0.406192 -1.443982    -0.519224   \n",
       "5582     -1.067381  0.796400 -1.191943  0.220955  0.692530     3.284029   \n",
       "5583      0.599810  1.266228  0.763594  1.001729  0.692530    -0.366931   \n",
       "\n",
       "      acousticness  instrumentalness  liveness   valence     tempo  \\\n",
       "0        -0.870072         -0.427814 -0.655783  0.410341 -0.684378   \n",
       "1         1.045914         -0.434769 -0.573573  0.663102  0.290969   \n",
       "2        -0.914191          0.954148 -0.311256 -1.772231 -0.363152   \n",
       "3         0.982877         -0.201238 -0.717283  0.277942 -0.861802   \n",
       "4        -0.868413         -0.429966  1.063088 -0.404112  0.540865   \n",
       "...            ...               ...       ...       ...       ...   \n",
       "5579     -0.886130         -0.435289 -0.417940  0.137519  0.083143   \n",
       "5580     -0.822961         -0.431798 -1.002820  1.481566  0.255200   \n",
       "5581     -0.635177         -0.405348 -0.869151  1.638037  0.382832   \n",
       "5582     -0.728405          1.916969 -0.104163  0.045241 -1.401761   \n",
       "5583     -0.573136         -0.331571 -0.129265  1.537735  0.256620   \n",
       "\n",
       "      duration_ms  \n",
       "0        0.436458  \n",
       "1        0.088301  \n",
       "2        0.629677  \n",
       "3        0.004036  \n",
       "4        0.103586  \n",
       "...           ...  \n",
       "5579    -1.331661  \n",
       "5580     1.154858  \n",
       "5581     0.552310  \n",
       "5582     0.418067  \n",
       "5583    -0.507092  \n",
       "\n",
       "[5584 rows x 12 columns]"
      ]
     },
     "execution_count": 459,
     "metadata": {},
     "output_type": "execute_result"
    }
   ],
   "source": [
    "X_prep"
   ]
  },
  {
   "cell_type": "code",
   "execution_count": 460,
   "metadata": {},
   "outputs": [
    {
     "data": {
      "text/html": [
       "<div>\n",
       "<style scoped>\n",
       "    .dataframe tbody tr th:only-of-type {\n",
       "        vertical-align: middle;\n",
       "    }\n",
       "\n",
       "    .dataframe tbody tr th {\n",
       "        vertical-align: top;\n",
       "    }\n",
       "\n",
       "    .dataframe thead th {\n",
       "        text-align: right;\n",
       "    }\n",
       "</style>\n",
       "<table border=\"1\" class=\"dataframe\">\n",
       "  <thead>\n",
       "    <tr style=\"text-align: right;\">\n",
       "      <th></th>\n",
       "      <th>name</th>\n",
       "      <th>danceability</th>\n",
       "      <th>energy</th>\n",
       "      <th>key</th>\n",
       "      <th>loudness</th>\n",
       "      <th>mode</th>\n",
       "      <th>speechiness</th>\n",
       "      <th>acousticness</th>\n",
       "      <th>instrumentalness</th>\n",
       "      <th>liveness</th>\n",
       "      <th>valence</th>\n",
       "      <th>tempo</th>\n",
       "      <th>type</th>\n",
       "      <th>id</th>\n",
       "      <th>uri</th>\n",
       "      <th>duration_ms</th>\n",
       "      <th>cluster</th>\n",
       "    </tr>\n",
       "  </thead>\n",
       "  <tbody>\n",
       "    <tr>\n",
       "      <th>0</th>\n",
       "      <td>I Still Haven't Found What I'm Looking For</td>\n",
       "      <td>0.564</td>\n",
       "      <td>0.774</td>\n",
       "      <td>1</td>\n",
       "      <td>-9.424</td>\n",
       "      <td>1</td>\n",
       "      <td>0.0368</td>\n",
       "      <td>0.013500</td>\n",
       "      <td>0.001910</td>\n",
       "      <td>0.0861</td>\n",
       "      <td>0.657</td>\n",
       "      <td>100.894</td>\n",
       "      <td>audio_features</td>\n",
       "      <td>6wpGqhRvJGNNXwWlPmkMyO</td>\n",
       "      <td>spotify:track:6wpGqhRvJGNNXwWlPmkMyO</td>\n",
       "      <td>277477</td>\n",
       "      <td>1</td>\n",
       "    </tr>\n",
       "    <tr>\n",
       "      <th>1</th>\n",
       "      <td>Somebody That I Used To Know</td>\n",
       "      <td>0.864</td>\n",
       "      <td>0.495</td>\n",
       "      <td>0</td>\n",
       "      <td>-7.036</td>\n",
       "      <td>1</td>\n",
       "      <td>0.0370</td>\n",
       "      <td>0.591000</td>\n",
       "      <td>0.000133</td>\n",
       "      <td>0.0992</td>\n",
       "      <td>0.720</td>\n",
       "      <td>129.062</td>\n",
       "      <td>audio_features</td>\n",
       "      <td>4wCmqSrbyCgxEXROQE6vtV</td>\n",
       "      <td>spotify:track:4wCmqSrbyCgxEXROQE6vtV</td>\n",
       "      <td>244973</td>\n",
       "      <td>25</td>\n",
       "    </tr>\n",
       "    <tr>\n",
       "      <th>2</th>\n",
       "      <td>With Or Without You - Remastered</td>\n",
       "      <td>0.540</td>\n",
       "      <td>0.429</td>\n",
       "      <td>2</td>\n",
       "      <td>-11.822</td>\n",
       "      <td>1</td>\n",
       "      <td>0.0285</td>\n",
       "      <td>0.000202</td>\n",
       "      <td>0.355000</td>\n",
       "      <td>0.1410</td>\n",
       "      <td>0.113</td>\n",
       "      <td>110.171</td>\n",
       "      <td>audio_features</td>\n",
       "      <td>6ADSaE87h8Y3lccZlBJdXH</td>\n",
       "      <td>spotify:track:6ADSaE87h8Y3lccZlBJdXH</td>\n",
       "      <td>295516</td>\n",
       "      <td>18</td>\n",
       "    </tr>\n",
       "    <tr>\n",
       "      <th>3</th>\n",
       "      <td>Just the Two of Us (feat. Bill Withers)</td>\n",
       "      <td>0.802</td>\n",
       "      <td>0.488</td>\n",
       "      <td>1</td>\n",
       "      <td>-9.304</td>\n",
       "      <td>1</td>\n",
       "      <td>0.0813</td>\n",
       "      <td>0.572000</td>\n",
       "      <td>0.059800</td>\n",
       "      <td>0.0763</td>\n",
       "      <td>0.624</td>\n",
       "      <td>95.770</td>\n",
       "      <td>audio_features</td>\n",
       "      <td>1ko2lVN0vKGUl9zrU0qSlT</td>\n",
       "      <td>spotify:track:1ko2lVN0vKGUl9zrU0qSlT</td>\n",
       "      <td>237106</td>\n",
       "      <td>25</td>\n",
       "    </tr>\n",
       "    <tr>\n",
       "      <th>4</th>\n",
       "      <td>Beautiful Day</td>\n",
       "      <td>0.539</td>\n",
       "      <td>0.926</td>\n",
       "      <td>2</td>\n",
       "      <td>-6.495</td>\n",
       "      <td>1</td>\n",
       "      <td>0.0499</td>\n",
       "      <td>0.014000</td>\n",
       "      <td>0.001360</td>\n",
       "      <td>0.3600</td>\n",
       "      <td>0.454</td>\n",
       "      <td>136.279</td>\n",
       "      <td>audio_features</td>\n",
       "      <td>1VuBmEauSZywQVtqbxNqka</td>\n",
       "      <td>spotify:track:1VuBmEauSZywQVtqbxNqka</td>\n",
       "      <td>246400</td>\n",
       "      <td>19</td>\n",
       "    </tr>\n",
       "    <tr>\n",
       "      <th>...</th>\n",
       "      <td>...</td>\n",
       "      <td>...</td>\n",
       "      <td>...</td>\n",
       "      <td>...</td>\n",
       "      <td>...</td>\n",
       "      <td>...</td>\n",
       "      <td>...</td>\n",
       "      <td>...</td>\n",
       "      <td>...</td>\n",
       "      <td>...</td>\n",
       "      <td>...</td>\n",
       "      <td>...</td>\n",
       "      <td>...</td>\n",
       "      <td>...</td>\n",
       "      <td>...</td>\n",
       "      <td>...</td>\n",
       "      <td>...</td>\n",
       "    </tr>\n",
       "    <tr>\n",
       "      <th>5579</th>\n",
       "      <td>Earth, Wind, Fire &amp; Air</td>\n",
       "      <td>0.694</td>\n",
       "      <td>0.533</td>\n",
       "      <td>8</td>\n",
       "      <td>-14.245</td>\n",
       "      <td>0</td>\n",
       "      <td>0.1020</td>\n",
       "      <td>0.008660</td>\n",
       "      <td>0.000000</td>\n",
       "      <td>0.1240</td>\n",
       "      <td>0.589</td>\n",
       "      <td>123.060</td>\n",
       "      <td>audio_features</td>\n",
       "      <td>1kGvwKNeDpTuMDw0KWqT92</td>\n",
       "      <td>spotify:track:1kGvwKNeDpTuMDw0KWqT92</td>\n",
       "      <td>112405</td>\n",
       "      <td>4</td>\n",
       "    </tr>\n",
       "    <tr>\n",
       "      <th>5580</th>\n",
       "      <td>Keep the Fire Burning</td>\n",
       "      <td>0.892</td>\n",
       "      <td>0.433</td>\n",
       "      <td>0</td>\n",
       "      <td>-13.806</td>\n",
       "      <td>0</td>\n",
       "      <td>0.0699</td>\n",
       "      <td>0.027700</td>\n",
       "      <td>0.000892</td>\n",
       "      <td>0.0308</td>\n",
       "      <td>0.924</td>\n",
       "      <td>128.029</td>\n",
       "      <td>audio_features</td>\n",
       "      <td>4rS4K30qVDExdjeU4feF4c</td>\n",
       "      <td>spotify:track:4rS4K30qVDExdjeU4feF4c</td>\n",
       "      <td>344547</td>\n",
       "      <td>34</td>\n",
       "    </tr>\n",
       "    <tr>\n",
       "      <th>5581</th>\n",
       "      <td>Boogie Wonderland</td>\n",
       "      <td>0.802</td>\n",
       "      <td>0.756</td>\n",
       "      <td>2</td>\n",
       "      <td>-10.791</td>\n",
       "      <td>0</td>\n",
       "      <td>0.0349</td>\n",
       "      <td>0.084300</td>\n",
       "      <td>0.007650</td>\n",
       "      <td>0.0521</td>\n",
       "      <td>0.963</td>\n",
       "      <td>131.715</td>\n",
       "      <td>audio_features</td>\n",
       "      <td>6ztstiyZL6FXzh4aG46ZPD</td>\n",
       "      <td>spotify:track:6ztstiyZL6FXzh4aG46ZPD</td>\n",
       "      <td>288293</td>\n",
       "      <td>34</td>\n",
       "    </tr>\n",
       "    <tr>\n",
       "      <th>5582</th>\n",
       "      <td>Pizza Alley</td>\n",
       "      <td>0.403</td>\n",
       "      <td>0.805</td>\n",
       "      <td>1</td>\n",
       "      <td>-7.913</td>\n",
       "      <td>1</td>\n",
       "      <td>0.4070</td>\n",
       "      <td>0.056200</td>\n",
       "      <td>0.601000</td>\n",
       "      <td>0.1740</td>\n",
       "      <td>0.566</td>\n",
       "      <td>80.176</td>\n",
       "      <td>audio_features</td>\n",
       "      <td>0EhaHV6QmVGy0incn4IXGz</td>\n",
       "      <td>spotify:track:0EhaHV6QmVGy0incn4IXGz</td>\n",
       "      <td>275760</td>\n",
       "      <td>26</td>\n",
       "    </tr>\n",
       "    <tr>\n",
       "      <th>5583</th>\n",
       "      <td>Monday Blues</td>\n",
       "      <td>0.688</td>\n",
       "      <td>0.914</td>\n",
       "      <td>8</td>\n",
       "      <td>-4.330</td>\n",
       "      <td>1</td>\n",
       "      <td>0.0498</td>\n",
       "      <td>0.103000</td>\n",
       "      <td>0.026500</td>\n",
       "      <td>0.1700</td>\n",
       "      <td>0.938</td>\n",
       "      <td>128.070</td>\n",
       "      <td>audio_features</td>\n",
       "      <td>5nbbip1PNoj2qGDk78jhtS</td>\n",
       "      <td>spotify:track:5nbbip1PNoj2qGDk78jhtS</td>\n",
       "      <td>189387</td>\n",
       "      <td>16</td>\n",
       "    </tr>\n",
       "  </tbody>\n",
       "</table>\n",
       "<p>5584 rows × 17 columns</p>\n",
       "</div>"
      ],
      "text/plain": [
       "                                            name  danceability  energy  key  \\\n",
       "0     I Still Haven't Found What I'm Looking For         0.564   0.774    1   \n",
       "1                   Somebody That I Used To Know         0.864   0.495    0   \n",
       "2               With Or Without You - Remastered         0.540   0.429    2   \n",
       "3        Just the Two of Us (feat. Bill Withers)         0.802   0.488    1   \n",
       "4                                  Beautiful Day         0.539   0.926    2   \n",
       "...                                          ...           ...     ...  ...   \n",
       "5579                     Earth, Wind, Fire & Air         0.694   0.533    8   \n",
       "5580                       Keep the Fire Burning         0.892   0.433    0   \n",
       "5581                           Boogie Wonderland         0.802   0.756    2   \n",
       "5582                                 Pizza Alley         0.403   0.805    1   \n",
       "5583                                Monday Blues         0.688   0.914    8   \n",
       "\n",
       "      loudness  mode  speechiness  acousticness  instrumentalness  liveness  \\\n",
       "0       -9.424     1       0.0368      0.013500          0.001910    0.0861   \n",
       "1       -7.036     1       0.0370      0.591000          0.000133    0.0992   \n",
       "2      -11.822     1       0.0285      0.000202          0.355000    0.1410   \n",
       "3       -9.304     1       0.0813      0.572000          0.059800    0.0763   \n",
       "4       -6.495     1       0.0499      0.014000          0.001360    0.3600   \n",
       "...        ...   ...          ...           ...               ...       ...   \n",
       "5579   -14.245     0       0.1020      0.008660          0.000000    0.1240   \n",
       "5580   -13.806     0       0.0699      0.027700          0.000892    0.0308   \n",
       "5581   -10.791     0       0.0349      0.084300          0.007650    0.0521   \n",
       "5582    -7.913     1       0.4070      0.056200          0.601000    0.1740   \n",
       "5583    -4.330     1       0.0498      0.103000          0.026500    0.1700   \n",
       "\n",
       "      valence    tempo            type                      id  \\\n",
       "0       0.657  100.894  audio_features  6wpGqhRvJGNNXwWlPmkMyO   \n",
       "1       0.720  129.062  audio_features  4wCmqSrbyCgxEXROQE6vtV   \n",
       "2       0.113  110.171  audio_features  6ADSaE87h8Y3lccZlBJdXH   \n",
       "3       0.624   95.770  audio_features  1ko2lVN0vKGUl9zrU0qSlT   \n",
       "4       0.454  136.279  audio_features  1VuBmEauSZywQVtqbxNqka   \n",
       "...       ...      ...             ...                     ...   \n",
       "5579    0.589  123.060  audio_features  1kGvwKNeDpTuMDw0KWqT92   \n",
       "5580    0.924  128.029  audio_features  4rS4K30qVDExdjeU4feF4c   \n",
       "5581    0.963  131.715  audio_features  6ztstiyZL6FXzh4aG46ZPD   \n",
       "5582    0.566   80.176  audio_features  0EhaHV6QmVGy0incn4IXGz   \n",
       "5583    0.938  128.070  audio_features  5nbbip1PNoj2qGDk78jhtS   \n",
       "\n",
       "                                       uri  duration_ms  cluster  \n",
       "0     spotify:track:6wpGqhRvJGNNXwWlPmkMyO       277477        1  \n",
       "1     spotify:track:4wCmqSrbyCgxEXROQE6vtV       244973       25  \n",
       "2     spotify:track:6ADSaE87h8Y3lccZlBJdXH       295516       18  \n",
       "3     spotify:track:1ko2lVN0vKGUl9zrU0qSlT       237106       25  \n",
       "4     spotify:track:1VuBmEauSZywQVtqbxNqka       246400       19  \n",
       "...                                    ...          ...      ...  \n",
       "5579  spotify:track:1kGvwKNeDpTuMDw0KWqT92       112405        4  \n",
       "5580  spotify:track:4rS4K30qVDExdjeU4feF4c       344547       34  \n",
       "5581  spotify:track:6ztstiyZL6FXzh4aG46ZPD       288293       34  \n",
       "5582  spotify:track:0EhaHV6QmVGy0incn4IXGz       275760       26  \n",
       "5583  spotify:track:5nbbip1PNoj2qGDk78jhtS       189387       16  \n",
       "\n",
       "[5584 rows x 17 columns]"
      ]
     },
     "execution_count": 460,
     "metadata": {},
     "output_type": "execute_result"
    }
   ],
   "source": [
    "# MERGE CLUSTER COLUMN WITH THE ORIGINAL DATA\n",
    "data['cluster'] = yhat\n",
    "data"
   ]
  },
  {
   "cell_type": "code",
   "execution_count": 768,
   "metadata": {},
   "outputs": [],
   "source": [
    "data.to_csv('spotify_data.csv',index=False)"
   ]
  },
  {
   "cell_type": "code",
   "execution_count": 781,
   "metadata": {},
   "outputs": [],
   "source": [
    "import webbrowser\n",
    "from IPython.core.display import display, HTML\n",
    "\n",
    "def return_a_new_song(customer_song,df,data):\n",
    "    customer_song = customer_song.capitalize()\n",
    "    if 'play_the_song' not in data.columns:\n",
    "        data['play_the_song'] = list(map(lambda x : 'https://open.spotify.com/embed/track/'+ x[14:],data[customer_song]['tracks']['items'][0]['uri']))\n",
    "    if customer_song in list(df.song):\n",
    "        artist_customer = df[df.song == customer_song].artist.item()\n",
    "        #print(artist_customer)\n",
    "        if len(df[df.artist == artist_customer]) > 1:\n",
    "            customer_song_ = df[df.song == customer_song].song.item()\n",
    "            results = df[df.artist == artist_customer]\n",
    "            #print(results[results.song != customer_song].sample(1))\n",
    "\n",
    "            saved_song = results[results.song != customer_song].sample(1)\n",
    "            print(\"\")\n",
    "            print(\"\")\n",
    "            print(\"We recommend you this song: {} from {}\".format(saved_song['song'].values[0], saved_song['artist'].values[0]))\n",
    "            print(\"\")\n",
    "            print('Listen to it on this link: ',webbrowser.open('https://open.spotify.com/embed/track/'+sp.search(q=saved_song['song'].values[0], limit= 1)['tracks']['items'][0]['uri'][14:],new=1))\n",
    "\n",
    "        else:\n",
    "            saved_song = df.sample(1)\n",
    "            print(\"\")\n",
    "            print(\"\")\n",
    "            print(\"We recommend you this song: {} from {}\".format(saved_song['song'].values[0], saved_song['artist'].values[0]))\n",
    "            print(\"\")\n",
    "            try:\n",
    "                sp.search(q=saved_song['song'].values[0], limit= 1)['tracks']['items'][0]['uri']\n",
    "                print('Listen to it on this link: ',webbrowser.open('https://open.spotify.com/embed/track/'+ sp.search(q=saved_song['song'].values[0], limit= 1)['tracks']['items'][0]['uri'][14:],new=1))\n",
    "            except:\n",
    "                link = data[data['name'] == customer_song]['play_the_song'].values[0]\n",
    "                print('Listen to it on this link: ',webbrowser.open(link, new=1))\n",
    "                #print('Sorry, there is no link to listen to this song.')\n",
    "    elif customer_song in list(data.name):\n",
    "\n",
    "        data[data['name'] == customer_song]['cluster'].values[0]\n",
    "\n",
    "        data_no_song = data[data['name'] != customer_song] \n",
    "\n",
    "        final_data = data_no_song[data_no_song['cluster'] == cluster] \n",
    "\n",
    "        final_data['play_the_song'] = list(map(lambda x : 'https://open.spotify.com/embed/track/'+ x[14:],final_data['uri']))\n",
    "\n",
    "        x = final_data[['name']].sample(1)\n",
    "        \n",
    "        song_name = x.values[0][0]\n",
    "\n",
    "        try:\n",
    "\n",
    "            link = final_data[final_data['name'] == song_name]['play_the_song'].values[0]\n",
    "        except:\n",
    "\n",
    "            link = data[data['name'] == song_name]['play_the_song'].values[0]\n",
    "        print(\"\")\n",
    "        print(\"\")\n",
    "        #print(\"We recommend you this song: {} from {}\".format(saved_song['song'].values[0], saved_song['artist'].values[0]))\n",
    "\n",
    "        print('We recommend you this song: ',song_name)\n",
    "        print(\"\")\n",
    "        print('Listen to it on this link: ',webbrowser.open(link, new=1))\n",
    "    else:\n",
    "        print(\"We couldn't find a song called {}. Plase provide another song\".format(customer_song))\n",
    "        return return_a_new_song(input(\"Choose another song: \"),df,data) "
   ]
  },
  {
   "cell_type": "code",
   "execution_count": 797,
   "metadata": {},
   "outputs": [],
   "source": [
    "def display_song():\n",
    "    display(HTML('<h1>Welcome to Focus break time game!</h1>'))\n",
    "    sleep(1)\n",
    "    customer_song = input('Choose a song: ')\n",
    "    return return_a_new_song(customer_song,df,data) "
   ]
  },
  {
   "cell_type": "markdown",
   "metadata": {},
   "source": [
    "#### Demo options:\n",
    "\n",
    "* We have two databases created to access songs: Billboard database and  spotify database.\n",
    "    * If the song is in the Billboard database it will return a hot song from that database.\n",
    "    * If the song is not in the Billboard database it will return a song from the spotify database."
   ]
  },
  {
   "cell_type": "markdown",
   "metadata": {},
   "source": [
    "1. Same singer song recommendation from Billboard database when the artist appears more than once. E.g. Save YOUR TEARS"
   ]
  },
  {
   "cell_type": "markdown",
   "metadata": {},
   "source": [
    "2. Random song recommendation from Billboard database when the artist has just one song there. E.g. DriVERS license"
   ]
  },
  {
   "cell_type": "markdown",
   "metadata": {},
   "source": [
    "3. Song Recommendation based on a cluster approach. E.g. say my name"
   ]
  },
  {
   "cell_type": "markdown",
   "metadata": {},
   "source": [
    "4. Option to write another song when it doesn't exist on the databases."
   ]
  },
  {
   "cell_type": "code",
   "execution_count": 832,
   "metadata": {
    "collapsed": true
   },
   "outputs": [
    {
     "data": {
      "text/html": [
       "<h1>Welcome to Focus break time game!</h1>"
      ],
      "text/plain": [
       "<IPython.core.display.HTML object>"
      ]
     },
     "metadata": {},
     "output_type": "display_data"
    },
    {
     "name": "stdout",
     "output_type": "stream",
     "text": [
      "Choose a song: asdf\n",
      "We couldn't find a song called Asdf. Plase provide another song\n",
      "Choose another song: up\n",
      "\n",
      "\n",
      "We recommend you this song: Body from Megan Thee Stallion\n",
      "\n",
      "Listen to it on this link:  True\n"
     ]
    }
   ],
   "source": [
    "display_song()"
   ]
  },
  {
   "cell_type": "code",
   "execution_count": null,
   "metadata": {},
   "outputs": [],
   "source": []
  }
 ],
 "metadata": {
  "kernelspec": {
   "display_name": "Python 3",
   "language": "python",
   "name": "python3"
  },
  "language_info": {
   "codemirror_mode": {
    "name": "ipython",
    "version": 3
   },
   "file_extension": ".py",
   "mimetype": "text/x-python",
   "name": "python",
   "nbconvert_exporter": "python",
   "pygments_lexer": "ipython3",
   "version": "3.7.9"
  }
 },
 "nbformat": 4,
 "nbformat_minor": 4
}
